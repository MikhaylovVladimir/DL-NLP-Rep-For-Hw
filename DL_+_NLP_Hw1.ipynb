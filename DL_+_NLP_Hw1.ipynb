{
  "nbformat": 4,
  "nbformat_minor": 0,
  "metadata": {
    "colab": {
      "provenance": []
    },
    "kernelspec": {
      "name": "python3",
      "display_name": "Python 3"
    },
    "language_info": {
      "name": "python"
    }
  },
  "cells": [
    {
      "cell_type": "code",
      "source": [
        "!pip install corus"
      ],
      "metadata": {
        "colab": {
          "base_uri": "https://localhost:8080/"
        },
        "id": "8CoyJYqPek9S",
        "outputId": "81dcb2ed-31ef-4109-b68e-aca69b2a81bd"
      },
      "execution_count": 1,
      "outputs": [
        {
          "output_type": "stream",
          "name": "stdout",
          "text": [
            "Collecting corus\n",
            "  Downloading corus-0.10.0-py3-none-any.whl.metadata (31 kB)\n",
            "Downloading corus-0.10.0-py3-none-any.whl (83 kB)\n",
            "\u001b[?25l   \u001b[90m━━━━━━━━━━━━━━━━━━━━━━━━━━━━━━━━━━━━━━━━\u001b[0m \u001b[32m0.0/83.7 kB\u001b[0m \u001b[31m?\u001b[0m eta \u001b[36m-:--:--\u001b[0m\r\u001b[2K   \u001b[90m━━━━━━━━━━━━━━━━━━━━━━━━━━━━━━━━━━━━━━━━\u001b[0m \u001b[32m83.7/83.7 kB\u001b[0m \u001b[31m5.4 MB/s\u001b[0m eta \u001b[36m0:00:00\u001b[0m\n",
            "\u001b[?25hInstalling collected packages: corus\n",
            "Successfully installed corus-0.10.0\n"
          ]
        }
      ]
    },
    {
      "cell_type": "code",
      "execution_count": 3,
      "metadata": {
        "colab": {
          "base_uri": "https://localhost:8080/"
        },
        "id": "sNO5JAaeeZqw",
        "outputId": "45a0c5e9-c725-4f7c-bba9-9d4d7b3de2f3"
      },
      "outputs": [
        {
          "output_type": "stream",
          "name": "stderr",
          "text": [
            "[nltk_data] Downloading package stopwords to /root/nltk_data...\n",
            "[nltk_data]   Package stopwords is already up-to-date!\n",
            "[nltk_data] Downloading package wordnet to /root/nltk_data...\n",
            "[nltk_data]   Package wordnet is already up-to-date!\n"
          ]
        },
        {
          "output_type": "execute_result",
          "data": {
            "text/plain": [
              "True"
            ]
          },
          "metadata": {},
          "execution_count": 3
        }
      ],
      "source": [
        "import random\n",
        "import numpy as np\n",
        "import pandas as pd\n",
        "import re\n",
        "from corus import load_lenta\n",
        "from sklearn.model_selection import train_test_split, cross_val_score\n",
        "from sklearn.feature_extraction.text import CountVectorizer, TfidfVectorizer\n",
        "from sklearn.linear_model import LogisticRegression\n",
        "from sklearn.pipeline import Pipeline\n",
        "from sklearn.dummy import DummyClassifier\n",
        "from sklearn.metrics import accuracy_score\n",
        "import nltk\n",
        "from nltk.corpus import stopwords\n",
        "from nltk.stem import WordNetLemmatizer\n",
        "from sklearn.model_selection import GridSearchCV\n",
        "nltk.download('stopwords')\n",
        "nltk.download('wordnet')\n"
      ]
    },
    {
      "cell_type": "code",
      "source": [
        "RANDOM_STATE = 42\n",
        "random.seed(RANDOM_STATE)\n",
        "np.random.seed(RANDOM_STATE)\n",
        "\n",
        "url = 'https://github.com/yutkin/Lenta.Ru-News-Dataset/releases/download/v1.0/lenta-ru-news.csv.gz'\n",
        "data = pd.read_csv(url, compression='gzip', usecols=['title', 'text', 'topic'])\n",
        "\n",
        "sample_size = 100_000\n",
        "data = data.sample(n=sample_size, random_state=RANDOM_STATE)"
      ],
      "metadata": {
        "id": "QSY1a1qrejsN"
      },
      "execution_count": 4,
      "outputs": []
    },
    {
      "cell_type": "code",
      "source": [
        "def preprocess_text(text):\n",
        "    if not isinstance(text, str):\n",
        "        return ''\n",
        "    text = text.lower()\n",
        "    text = re.sub(r'[^а-яa-z ]', '', text)\n",
        "    words = text.split()\n",
        "    lemmatizer = WordNetLemmatizer()\n",
        "    stop_words = set(stopwords.words('russian'))\n",
        "    words = [lemmatizer.lemmatize(word) for word in words if word not in stop_words]\n",
        "    return ' '.join(words)\n",
        "\n",
        "data['processed_text'] = (data['title'].fillna('') + ' ' + data['text'].fillna('')).apply(preprocess_text)\n",
        "\n",
        "class_counts = data['topic'].value_counts()\n",
        "data = data[data['topic'].isin(class_counts[class_counts >= 2].index)]\n",
        "\n",
        "data['topic'] = data['topic'].astype('category').cat.codes"
      ],
      "metadata": {
        "colab": {
          "base_uri": "https://localhost:8080/"
        },
        "id": "e4O0I8a-fRgi",
        "outputId": "5c033f7e-47bb-4cba-aa66-94fad14c02e1"
      },
      "execution_count": 5,
      "outputs": [
        {
          "output_type": "stream",
          "name": "stderr",
          "text": [
            "<ipython-input-5-128be10e479b>:19: SettingWithCopyWarning: \n",
            "A value is trying to be set on a copy of a slice from a DataFrame.\n",
            "Try using .loc[row_indexer,col_indexer] = value instead\n",
            "\n",
            "See the caveats in the documentation: https://pandas.pydata.org/pandas-docs/stable/user_guide/indexing.html#returning-a-view-versus-a-copy\n",
            "  data['topic'] = data['topic'].astype('category').cat.codes  # Преобразуем категориальный target в числа\n"
          ]
        }
      ]
    },
    {
      "cell_type": "code",
      "source": [
        "train_texts, test_texts, train_labels, test_labels = train_test_split(\n",
        "    data['processed_text'], data['topic'], test_size=0.2, stratify=data['topic'], random_state=RANDOM_STATE)\n",
        "train_texts, val_texts, train_labels, val_labels = train_test_split(\n",
        "    train_texts, train_labels, test_size=0.25, stratify=train_labels, random_state=RANDOM_STATE)  # 60/20/20"
      ],
      "metadata": {
        "id": "ZIDahfxefVOJ"
      },
      "execution_count": 6,
      "outputs": []
    },
    {
      "cell_type": "code",
      "source": [
        "dummy = DummyClassifier(strategy='most_frequent')\n",
        "dummy.fit(train_texts, train_labels)\n",
        "dummy_preds = dummy.predict(val_texts)\n",
        "print(f'Dummy Accuracy: {accuracy_score(val_labels, dummy_preds):.4f}')"
      ],
      "metadata": {
        "colab": {
          "base_uri": "https://localhost:8080/"
        },
        "id": "3zBvA0iFfZig",
        "outputId": "56bab2b9-585a-4f1b-b24a-7a731e7af374"
      },
      "execution_count": 7,
      "outputs": [
        {
          "output_type": "stream",
          "name": "stdout",
          "text": [
            "Dummy Accuracy: 0.2188\n"
          ]
        }
      ]
    },
    {
      "cell_type": "code",
      "source": [
        "count_pipeline = Pipeline([\n",
        "    ('vectorizer', CountVectorizer()),\n",
        "    ('classifier', LogisticRegression(random_state=RANDOM_STATE, max_iter=2000, solver='saga', penalty='l2'))\n",
        "])\n",
        "count_pipeline.fit(train_texts, train_labels)\n",
        "count_preds = count_pipeline.predict(val_texts)\n",
        "print(f'Accuracy: {accuracy_score(val_labels, count_preds):.4f}')"
      ],
      "metadata": {
        "colab": {
          "base_uri": "https://localhost:8080/"
        },
        "id": "AOp6YRgHfcQo",
        "outputId": "1171a925-9fa0-4696-d940-034e05137f8b"
      },
      "execution_count": 10,
      "outputs": [
        {
          "output_type": "stream",
          "name": "stdout",
          "text": [
            "CountVectorizer Accuracy: 0.8071\n"
          ]
        }
      ]
    },
    {
      "cell_type": "code",
      "source": [
        "tfidf_pipeline = Pipeline([\n",
        "    ('vectorizer', TfidfVectorizer()),\n",
        "    ('classifier', LogisticRegression(random_state=RANDOM_STATE, max_iter=2000, solver='saga', penalty='l2'))\n",
        "])\n",
        "tfidf_pipeline.fit(train_texts, train_labels)\n",
        "tfidf_preds = tfidf_pipeline.predict(val_texts)\n",
        "print(f'TFIDF Accuracy: {accuracy_score(val_labels, tfidf_preds):.4f}')"
      ],
      "metadata": {
        "colab": {
          "base_uri": "https://localhost:8080/"
        },
        "id": "2KQZyP2wfgMN",
        "outputId": "7622ac6e-9407-42fd-adfb-fa417256db8c"
      },
      "execution_count": 11,
      "outputs": [
        {
          "output_type": "stream",
          "name": "stdout",
          "text": [
            "TFIDF Accuracy: 0.7979\n"
          ]
        }
      ]
    },
    {
      "cell_type": "code",
      "source": [
        "param_grid = {\n",
        "    'vectorizer__ngram_range': [(1, 1), (1, 2)],\n",
        "    'classifier__C': [0.1, 1, 10]\n",
        "}\n",
        "\n",
        "gs = GridSearchCV(tfidf_pipeline, param_grid, cv=3, scoring='accuracy')\n",
        "gs.fit(train_texts, train_labels)\n",
        "print(f'Лучшие параметры: {gs.best_params_}')"
      ],
      "metadata": {
        "colab": {
          "base_uri": "https://localhost:8080/"
        },
        "id": "EK_GLzVofik9",
        "outputId": "01b2ec8d-ce83-41b2-88d8-eecc37fcf128"
      },
      "execution_count": 12,
      "outputs": [
        {
          "output_type": "stream",
          "name": "stdout",
          "text": [
            "Лучшие параметры: {'classifier__C': 10, 'vectorizer__ngram_range': (1, 1)}\n"
          ]
        }
      ]
    },
    {
      "cell_type": "code",
      "source": [
        "best_model = gs.best_estimator_\n",
        "test_preds = best_model.predict(test_texts)\n",
        "print(f'Final Test Accuracy: {accuracy_score(test_labels, test_preds):.4f}')"
      ],
      "metadata": {
        "colab": {
          "base_uri": "https://localhost:8080/"
        },
        "id": "kkYIl3FBfj14",
        "outputId": "7f3ebf4d-f3ca-4a41-ea2b-8b947308f2eb"
      },
      "execution_count": 13,
      "outputs": [
        {
          "output_type": "stream",
          "name": "stdout",
          "text": [
            "Final Test Accuracy: 0.8138\n"
          ]
        }
      ]
    }
  ]
}